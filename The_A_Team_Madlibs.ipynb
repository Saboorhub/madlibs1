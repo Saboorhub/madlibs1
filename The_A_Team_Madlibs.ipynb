{
 "cells": [
  {
   "cell_type": "markdown",
   "metadata": {},
   "source": [
    "# Lyrics for the mad libs"
   ]
  },
  {
   "cell_type": "code",
   "execution_count": 1,
   "metadata": {},
   "outputs": [
    {
     "data": {
      "text/plain": [
       "' white lips, pale face \\n breathing in snowflakes \\n burnt lungs sour taste \\n lights gone days end \\n struggling to pay rent \\n long nights strange men \\n and they say \\n shes in the class a team \\n stuck in her daydream \\n been this way since 18 \\n but lately her face seems  \\n slowly sinking wasting \\n crumbling like pastries \\n they scream \\n the worst things in life come free to us \\n cause were just under the upperhand \\n and go mad for a couple grams \\n and she dont want to go outside tonight \\n and in a pipe she flies to the motherland \\n or sells love to another man \\n its too cold outside \\n for angels to fly \\n angels to fly \\n ripped gloves raincoat \\n tried to swim stay afloat \\n dry house wet clothes \\n loose change bank notes \\n wearyeyed dry throat \\n cool girl no phone \\n and they say \\n shes in the class a team \\n stuck in her daydream \\n been this way since 18 \\n but lately her face seems \\n slowly sinking wasting \\n crumbling like pastries \\n and they scream \\n the worst things in life come free to us \\n cause were just under the upperhand \\n and go mad for a couple grams \\n but she dont want to go outside tonight \\n and in a pipe she flies to the motherland \\n or sells love to another man \\n its too cold outside \\n for angels to fly \\n an angel will die \\n covered in white \\n closed eye \\n and hoping for a better life \\n this time well fade out tonight \\n straight down the line \\n and they say \\n shes in the class a team \\n stuck in her daydream \\n been this way since 18 \\n but lately her face seems \\n slowly sinking wasting \\n crumbling like pastries \\n they scream \\n the worst things in life come free to us \\n and were all under the upperhand \\n go mad for a couple grams \\n and we dont want to go outside tonight \\n and in a pipe we fly to the motherland \\n or sell love to another man \\n its too cold outside \\n for angels to fly \\n angels to fly \\n to fly fly \\n for angels to fly to fly to fly \\n angels to die'"
      ]
     },
     "execution_count": 1,
     "metadata": {},
     "output_type": "execute_result"
    }
   ],
   "source": [
    "lyrics = \"\"\" white lips, pale face \\n breathing in snowflakes \\n burnt lungs sour taste \\n lights gone days end \\n struggling to pay rent \\n long nights strange men \\n and they say \\n shes in the class a team \\n stuck in her daydream \\n been this way since 18 \\n but lately her face seems  \\n slowly sinking wasting \\n crumbling like pastries \\n they scream \\n the worst things in life come free to us \\n cause were just under the upperhand \\n and go mad for a couple grams \\n and she dont want to go outside tonight \\n and in a pipe she flies to the motherland \\n or sells love to another man \\n its too cold outside \\n for angels to fly \\n angels to fly \\n ripped gloves raincoat \\n tried to swim stay afloat \\n dry house wet clothes \\n loose change bank notes \\n wearyeyed dry throat \\n cool girl no phone \\n and they say \\n shes in the class a team \\n stuck in her daydream \\n been this way since 18 \\n but lately her face seems \\n slowly sinking wasting \\n crumbling like pastries \\n and they scream \\n the worst things in life come free to us \\n cause were just under the upperhand \\n and go mad for a couple grams \\n but she dont want to go outside tonight \\n and in a pipe she flies to the motherland \\n or sells love to another man \\n its too cold outside \\n for angels to fly \\n an angel will die \\n covered in white \\n closed eye \\n and hoping for a better life \\n this time well fade out tonight \\n straight down the line \\n and they say \\n shes in the class a team \\n stuck in her daydream \\n been this way since 18 \\n but lately her face seems \\n slowly sinking wasting \\n crumbling like pastries \\n they scream \\n the worst things in life come free to us \\n and were all under the upperhand \\n go mad for a couple grams \\n and we dont want to go outside tonight \\n and in a pipe we fly to the motherland \\n or sell love to another man \\n its too cold outside \\n for angels to fly \\n angels to fly \\n to fly fly \\n for angels to fly to fly to fly \\n angels to die\"\"\"\n",
    "lyrics"
   ]
  },
  {
   "cell_type": "markdown",
   "metadata": {},
   "source": [
    "## Pseudocode"
   ]
  },
  {
   "cell_type": "markdown",
   "metadata": {},
   "source": [
    "1. Insert a new line marker for each line in the lyrics. \n",
    "2. Split the full string into a list\n",
    "3. Change the first letter of each line into uppercase (break the strings into characters)\n",
    "4. Convert the list of characters back into a string. \n",
    "5. Replace words with different parts of speech.\n",
    "6. Replace the blanks with specified words. "
   ]
  },
  {
   "cell_type": "markdown",
   "metadata": {},
   "source": [
    "## 1. insert a new line marker"
   ]
  },
  {
   "cell_type": "code",
   "execution_count": 2,
   "metadata": {},
   "outputs": [
    {
     "data": {
      "text/plain": [
       "' white lips, pale face \\n breathing in snowflakes \\n burnt lungs sour taste \\n lights gone days end \\n struggling to pay rent \\n long nights strange men \\n and they say \\n shes in the class a team \\n stuck in her daydream \\n been this way since 18 \\n but lately her face seems  \\n slowly sinking wasting \\n crumbling like pastries \\n they scream \\n the worst things in life come free to us \\n cause were just under the upperhand \\n and go mad for a couple grams \\n and she dont want to go outside tonight \\n and in a pipe she flies to the motherland \\n or sells love to another man \\n its too cold outside \\n for angels to fly \\n angels to fly \\n ripped gloves raincoat \\n tried to swim stay afloat \\n dry house wet clothes \\n loose change bank notes \\n wearyeyed dry throat \\n cool girl no phone \\n and they say \\n shes in the class a team \\n stuck in her daydream \\n been this way since 18 \\n but lately her face seems \\n slowly sinking wasting \\n crumbling like pastries \\n and they scream \\n the worst things in life come free to us \\n cause were just under the upperhand \\n and go mad for a couple grams \\n but she dont want to go outside tonight \\n and in a pipe she flies to the motherland \\n or sells love to another man \\n its too cold outside \\n for angels to fly \\n an angel will die \\n covered in white \\n closed eye \\n and hoping for a better life \\n this time well fade out tonight \\n straight down the line \\n and they say \\n shes in the class a team \\n stuck in her daydream \\n been this way since 18 \\n but lately her face seems \\n slowly sinking wasting \\n crumbling like pastries \\n they scream \\n the worst things in life come free to us \\n and were all under the upperhand \\n go mad for a couple grams \\n and we dont want to go outside tonight \\n and in a pipe we fly to the motherland \\n or sell love to another man \\n its too cold outside \\n for angels to fly \\n angels to fly \\n to fly fly \\n for angels to fly to fly to fly \\n angels to die'"
      ]
     },
     "execution_count": 2,
     "metadata": {},
     "output_type": "execute_result"
    }
   ],
   "source": [
    "# The notebook interpreter automatically adds a line marker. \n",
    "\n",
    "lyrics"
   ]
  },
  {
   "cell_type": "markdown",
   "metadata": {},
   "source": [
    "## 2. split the string into a list."
   ]
  },
  {
   "cell_type": "code",
   "execution_count": 3,
   "metadata": {},
   "outputs": [
    {
     "name": "stdout",
     "output_type": "stream",
     "text": [
      "Here are the first three lists:\n",
      "\n",
      " [[' ', 'w', 'h', 'i', 't', 'e', ' ', 'l', 'i', 'p', 's', ',', ' ', 'p', 'a', 'l', 'e', ' ', 'f', 'a', 'c', 'e', ' '], [' ', 'b', 'r', 'e', 'a', 't', 'h', 'i', 'n', 'g', ' ', 'i', 'n', ' ', 's', 'n', 'o', 'w', 'f', 'l', 'a', 'k', 'e', 's', ' '], [' ', 'b', 'u', 'r', 'n', 't', ' ', 'l', 'u', 'n', 'g', 's', ' ', 's', 'o', 'u', 'r', ' ', 't', 'a', 's', 't', 'e', ' ']]\n"
     ]
    }
   ],
   "source": [
    "# we are going to use the split() function to create a list. \n",
    "lyrics_list = lyrics.split(\"\\n\")\n",
    "lyrics_char_list = [list(line) for line in lyrics_list]\n",
    "print (\"Here are the first three lists:\\n\\n {}\".format(lyrics_char_list[0:3]))"
   ]
  },
  {
   "cell_type": "markdown",
   "metadata": {},
   "source": [
    "## 3. Change the first letter of the each list into uppercase."
   ]
  },
  {
   "cell_type": "code",
   "execution_count": 4,
   "metadata": {},
   "outputs": [
    {
     "name": "stdout",
     "output_type": "stream",
     "text": [
      "Here are the first three lists. Notice the caps:\n",
      "\n",
      " [[' ', 'W', 'h', 'i', 't', 'e', ' ', 'l', 'i', 'p', 's', ',', ' ', 'p', 'a', 'l', 'e', ' ', 'f', 'a', 'c', 'e', ' '], [' ', 'B', 'r', 'e', 'a', 't', 'h', 'i', 'n', 'g', ' ', 'i', 'n', ' ', 's', 'n', 'o', 'w', 'f', 'l', 'a', 'k', 'e', 's', ' '], [' ', 'B', 'u', 'r', 'n', 't', ' ', 'l', 'u', 'n', 'g', 's', ' ', 's', 'o', 'u', 'r', ' ', 't', 'a', 's', 't', 'e', ' ']]\n"
     ]
    }
   ],
   "source": [
    "for char in lyrics_char_list: \n",
    "    char[1] = char[1].upper()\n",
    "    \n",
    "print (\"Here are the first three lists. Notice the caps:\\n\\n {}\".format(lyrics_char_list[0:3]))"
   ]
  },
  {
   "cell_type": "markdown",
   "metadata": {},
   "source": [
    "## 4. Convert the list of characters back into a string. "
   ]
  },
  {
   "cell_type": "code",
   "execution_count": 5,
   "metadata": {},
   "outputs": [],
   "source": [
    "lyrics_string_list = [\"\".join(lst) for lst in lyrics_char_list]\n",
    "lyrics_string = \"\\n\".join(lyrics_string_list)\n"
   ]
  },
  {
   "cell_type": "markdown",
   "metadata": {},
   "source": [
    "## 5. Replace words with different parts of speech."
   ]
  },
  {
   "cell_type": "code",
   "execution_count": 6,
   "metadata": {},
   "outputs": [],
   "source": [
    "# First of all, we will manually replace all the adjectives, and all the nouns and all\n",
    "# the verbs with their respective tags. \n",
    "\n",
    "# 1. So we will create a dictionary of parts_of_speech that will include adj, verbs, and nouns.\n",
    "# 2. We will create a function that will look for the verbs, nouns, and adjectives in the string. \n",
    "# 3. It will replace the verbs, nouns, and adjectives with their relevant tags that are the keys of \n",
    "# the dict key/value pairs. \n",
    "# 4. We have a new string with tags. \n",
    "\n",
    "# 1. Here is our parts of speech dict. \n",
    "\n",
    "parts_of_speech = {'{ADJ}':[\"White\", \"black\", \"pink\", \"pale\", \"long\", \"strange\", \"mad\", \"dry\", \"loose\", \n",
    "             \"free\", \"cold\", \"cool\", \"covered\", \"mad\", \"straight\", \"ripped\", \"stuck\"], \n",
    "                  '{NOUN}':[\"lips\", \"face\", \"snowflakes\", \"days\", \"things\", \"daydream\", \"man\", \"eye\", \"clothes\"], \n",
    "                  '{VERB}':[\"taste\", \"love\", \"fly\", \"been\",\"pay\",\"sells\", \"go\", \"want\", \"sell\", \"scream\", \"close\"]}\n"
   ]
  },
  {
   "cell_type": "code",
   "execution_count": 7,
   "metadata": {},
   "outputs": [],
   "source": [
    "# 2-3 Here is our function that replaces certain parts of speech with tags. \n",
    "\n",
    "def string_replaced(string, dictionary): \n",
    "    \"\"\"This function takes a string input, matches the words from a dictionary values,\n",
    "    if there is a match, replaces the words in the string to the relevant key of a dict\n",
    "    key/value pair.\"\"\"\n",
    "    for keys, values in dictionary.items(): \n",
    "        for value in values: \n",
    "            if value in string: \n",
    "                string = string.replace(value, keys)\n",
    "    return string     "
   ]
  },
  {
   "cell_type": "code",
   "execution_count": 8,
   "metadata": {},
   "outputs": [
    {
     "data": {
      "text/plain": [
       "' {ADJ} {NOUN}, {ADJ} {NOUN} \\n Breathing in {NOUN} \\n Burnt lungs sour {VERB} \\n Lights {VERB}ne {NOUN} end \\n Struggling to {VERB} rent \\n Long nights {ADJ} men \\n And they say \\n Shes in the class a team \\n Stuck in her {NOUN} \\n Been this way since 18 \\n But lately her {NOUN} seems  \\n Slowly sinking wasting \\n Crumbling like pastries \\n They {VERB} \\n The worst {NOUN} in life come {ADJ} to us \\n Cause were just under the upperhand \\n And {VERB} {ADJ} for a couple grams \\n And she dont {VERB} to {VERB} outside tonight \\n And in a pipe she flies to the motherland \\n Or {VERB} {VERB} to another {NOUN} \\n Its too {ADJ} outside \\n For angels to {VERB} \\n Angels to {VERB} \\n Ripped g{VERB}s raincoat \\n Tried to swim stay afloat \\n Dry house wet {NOUN} \\n Loose change bank notes \\n Weary{NOUN}d {ADJ} throat \\n Cool girl no phone \\n And they say \\n Shes in the class a team \\n Stuck in her {NOUN} \\n Been this way since 18 \\n But lately her {NOUN} seems \\n Slowly sinking wasting \\n Crumbling like pastries \\n And they {VERB} \\n The worst {NOUN} in life come {ADJ} to us \\n Cause were just under the upperhand \\n And {VERB} {ADJ} for a couple grams \\n But she dont {VERB} to {VERB} outside tonight \\n And in a pipe she flies to the motherland \\n Or {VERB} {VERB} to another {NOUN} \\n Its too {ADJ} outside \\n For angels to {VERB} \\n An angel will die \\n Covered in white \\n Closed {NOUN} \\n And hoping for a better life \\n This time well fade out tonight \\n Straight down the line \\n And they say \\n Shes in the class a team \\n Stuck in her {NOUN} \\n Been this way since 18 \\n But lately her {NOUN} seems \\n Slowly sinking wasting \\n Crumbling like pastries \\n They {VERB} \\n The worst {NOUN} in life come {ADJ} to us \\n And were all under the upperhand \\n Go {ADJ} for a couple grams \\n And we dont {VERB} to {VERB} outside tonight \\n And in a pipe we {VERB} to the motherland \\n Or {VERB} {VERB} to another {NOUN} \\n Its too {ADJ} outside \\n For angels to {VERB} \\n Angels to {VERB} \\n To {VERB} {VERB} \\n For angels to {VERB} to {VERB} to {VERB} \\n Angels to die'"
      ]
     },
     "execution_count": 8,
     "metadata": {},
     "output_type": "execute_result"
    }
   ],
   "source": [
    "# 4. We are going to store the tagged string in a new variable. \n",
    "\n",
    "lyrics_string_tagged = string_replaced(lyrics_string, parts_of_speech)\n",
    "lyrics_string_tagged"
   ]
  },
  {
   "cell_type": "markdown",
   "metadata": {},
   "source": [
    "## 5. Replace the blanks with specified words. "
   ]
  },
  {
   "cell_type": "code",
   "execution_count": 9,
   "metadata": {},
   "outputs": [],
   "source": [
    "group1 = [\"good\", \"potato\", \"love\"]\n",
    "group2 = [\"crazy\", \"chocolate\", \"cook\"]\n",
    "\n",
    "# let us try to replace the words in the tags in the lyrics string with two of these \n",
    "# we are going to save them separately. \n",
    "\n",
    "group1_string = lyrics_string_tagged.format(ADJ=group1[0], NOUN=group1[1], VERB=group1[2])\n",
    "group2_string = lyrics_string_tagged.format(ADJ=group2[0], NOUN=group2[1], VERB=group2[2])"
   ]
  },
  {
   "cell_type": "code",
   "execution_count": 11,
   "metadata": {},
   "outputs": [],
   "source": [
    "# for better readability, let us convert it into a list comprehension\n",
    "fun_lyrics1 = [lyric for lyric in group1_string.split(\"\\n\")]\n",
    "fun_lyrics2 = [lyric for lyric in group2_string.split(\"\\n\")]\n"
   ]
  }
 ],
 "metadata": {
  "kernelspec": {
   "display_name": "Python 3",
   "language": "python",
   "name": "python3"
  },
  "language_info": {
   "codemirror_mode": {
    "name": "ipython",
    "version": 3
   },
   "file_extension": ".py",
   "mimetype": "text/x-python",
   "name": "python",
   "nbconvert_exporter": "python",
   "pygments_lexer": "ipython3",
   "version": "3.5.4"
  }
 },
 "nbformat": 4,
 "nbformat_minor": 2
}
